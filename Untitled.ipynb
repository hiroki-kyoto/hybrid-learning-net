{
 "cells": [
  {
   "cell_type": "code",
   "execution_count": 77,
   "metadata": {},
   "outputs": [
    {
     "name": "stdout",
     "output_type": "stream",
     "text": [
      "('data contains ', 16, 'tests.')\n"
     ]
    },
    {
     "data": {
      "text/plain": [
       "<matplotlib.legend.Legend at 0xab3b278c>"
      ]
     },
     "execution_count": 77,
     "metadata": {},
     "output_type": "execute_result"
    },
    {
     "data": {
      "image/png": "[encoded data removed]",
      "text/plain": [
       "<matplotlib.figure.Figure at 0xab48a32c>"
      ]
     },
     "metadata": {},
     "output_type": "display_data"
    }
   ],
   "source": [
    "%matplotlib inline\n",
    "import matplotlib\n",
    "matplotlib.rcParams['text.usetex'] = True\n",
    "matplotlib.rcParams['text.latex.unicode'] = True\n",
    "matplotlib.rcParams['text.latex.preamble'] = [\n",
    "       '\\\\usepackage{CJK}',\n",
    "       r'\\AtBeginDocument{\\begin{CJK}{UTF8}{gbsn}}',\n",
    "       r'\\AtEndDocument{\\end{CJK}}',\n",
    "]\n",
    "import matplotlib.pyplot as plt\n",
    "import numpy as np\n",
    "import sys\n",
    "import os\n",
    "\n",
    "fp = 'test1/cmp.txt'\n",
    "num = 30\n",
    "f = file(fp)\n",
    "n = 0\n",
    "s = f.readline()\n",
    "while(s!=''):\n",
    "    n += 1\n",
    "    s = f.readline()\n",
    "print('data contains ', n, 'tests.')\n",
    "x = np.zeros(n)\n",
    "mb = np.zeros(n)\n",
    "mh = np.zeros(n)\n",
    "sb = np.zeros(n)\n",
    "sh = np.zeros(n)\n",
    "f = file(fp)\n",
    "for i in range(n):\n",
    "    s = f.readline()\n",
    "    arr = s.split(' ')\n",
    "    x[i] = float(arr[0])/100\n",
    "    mb[i] = float(arr[1])\n",
    "    mh[i] = float(arr[2])\n",
    "    sb[i] = np.sqrt(float(arr[3]))\n",
    "    sh[i] = np.sqrt(float(arr[4]))\n",
    "plt.plot(x, mb, 'b-')\n",
    "plt.plot(x, mh, 'r-')\n",
    "plt.plot(x, sb, 'b--')\n",
    "plt.plot(x, sh, 'r--')\n",
    "plt.legend([r'$\\mu-\\textbf{FCN}$', \\\n",
    "            r'$\\mu-\\textbf{HLN}$', \\\n",
    "            r'$\\sigma-\\textbf{FCN}$', \\\n",
    "            r'$\\sigma-\\textbf{HLN}$'])"
   ]
  }
 ],
 "metadata": {
  "kernelspec": {
   "display_name": "Python 2",
   "language": "python",
   "name": "python2"
  },
  "language_info": {
   "codemirror_mode": {
    "name": "ipython",
    "version": 2
   },
   "file_extension": ".py",
   "mimetype": "text/x-python",
   "name": "python",
   "nbconvert_exporter": "python",
   "pygments_lexer": "ipython2",
   "version": "2.7.13"
  }
 },
 "nbformat": 4,
 "nbformat_minor": 2
}
