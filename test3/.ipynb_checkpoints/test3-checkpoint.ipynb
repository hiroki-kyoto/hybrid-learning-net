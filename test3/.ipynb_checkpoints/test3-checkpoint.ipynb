{
 "cells": [
  {
   "cell_type": "code",
   "execution_count": 2,
   "metadata": {},
   "outputs": [
    {
     "name": "stdout",
     "output_type": "stream",
     "text": [
      "====== init =======\n",
      "hid dim: 1024\n",
      "init done.\n",
      "procedure done.\n"
     ]
    }
   ],
   "source": [
    "%matplotlib inline\n",
    "import matplotlib\n",
    "matplotlib.rcParams['text.usetex'] = True\n",
    "matplotlib.rcParams['text.latex.unicode'] = True\n",
    "matplotlib.rcParams['text.latex.preamble'] = [\n",
    "       '\\\\usepackage{CJK}',\n",
    "       r'\\AtBeginDocument{\\begin{CJK}{UTF8}{gbsn}}',\n",
    "       r'\\AtEndDocument{\\end{CJK}}',\n",
    "]\n",
    "import matplotlib.pyplot as pl\n",
    "import numpy as np\n",
    "import sys\n",
    "import os\n",
    "#pl.style.use('ggplot')\n",
    "\n",
    "# 1. neuron activation is probalistic.\n",
    "# 2. sample learning is proactive.\n",
    "# 3. unsupervised learning leads to reference learning(*)\n",
    "# 4. small labeled data works too.\n",
    "# 5. self-organizing map group\n",
    "# 6. association(*)\n",
    "\n",
    "# Proactive Probalistic Reference Net\n",
    "\n",
    "# neural network is being constructed beyond layer based architecture\n",
    "# neurons are arranged in a form of organization\n",
    "# \n",
    "\n",
    "class PPRN:\n",
    "    in_dim = []\n",
    "    out_dim = []\n",
    "    hid_dep = 0\n",
    "    hid_dim = []\n",
    "    som_dim = []\n",
    "    hid = []\n",
    "    som = []\n",
    "    def init(self, in_dim, out_dim, hid_dep):\n",
    "        self.in_dim = in_dim\n",
    "        self.out_dim = out_dim\n",
    "        self.hid_dep = hid_dep\n",
    "        self.hid_dim = np.zeros(hid_dep, dtype=np.int)\n",
    "        self.som_dim = np.zeros([hid_dep, 3], dtype=np.int)\n",
    "        self.hid = list(range(hid_dep))\n",
    "        self.som = list(range(hid_dep))\n",
    "        times = 1\n",
    "        init_hid_dim = 2**hid_dep\n",
    "        print 'hid dim:', init_hid_dim\n",
    "        for i in range(hid_dep): \n",
    "            times = times * 2\n",
    "            self.hid_dim[i-1] = times * self.in_dim\n",
    "            self.som_dim[i-1, :] = [self.hid_dim[i-1], init_hid_dim/times, self.hid_dim[i-1]/2]\n",
    "            self.hid[i-1] = np.zeros([1, self.hid_dim[i-1]])\n",
    "            self.som[i-1] = np.random.rand(self.som_dim[i-1, 0], self.som_dim[i-1, 1], self.som_dim[i-1, 2])\n",
    "        print 'init done.'\n",
    "    def run(self, x):\n",
    "        # 1. layer by layer training\n",
    "        # 2. if the example does not hit the coldzone, then negelect it!\n",
    "        # 3. probalistic activation\n",
    "        for i in range(self.hid_dep):\n",
    "            return\n",
    "\n",
    "def main():\n",
    "    print '====== init ======='\n",
    "    net = PPRN()\n",
    "    net.init(2, 2, 10)\n",
    "    print 'procedure done.'\n",
    "\n",
    "    \n",
    "main()\n"
   ]
  }
 ],
 "metadata": {
  "kernelspec": {
   "display_name": "Python 2",
   "language": "python",
   "name": "python2"
  },
  "language_info": {
   "codemirror_mode": {
    "name": "ipython",
    "version": 2
   },
   "file_extension": ".py",
   "mimetype": "text/x-python",
   "name": "python",
   "nbconvert_exporter": "python",
   "pygments_lexer": "ipython2",
   "version": "2.7.13"
  }
 },
 "nbformat": 4,
 "nbformat_minor": 2
}
