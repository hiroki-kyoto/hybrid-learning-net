{
 "cells": [
  {
   "cell_type": "code",
   "execution_count": null,
   "metadata": {
    "collapsed": true
   },
   "outputs": [],
   "source": [
    "#### draw the comparison between two Nets\n",
    "%matplotlib inline\n",
    "import matplotlib\n",
    "matplotlib.rcParams['text.usetex'] = True\n",
    "matplotlib.rcParams['text.latex.unicode'] = True\n",
    "matplotlib.rcParams['text.latex.preamble'] = [\n",
    "       '\\\\usepackage{CJK}',\n",
    "       r'\\AtBeginDocument{\\begin{CJK}{UTF8}{gbsn}}',\n",
    "       r'\\AtEndDocument{\\end{CJK}}',\n",
    "]\n",
    "import matplotlib.pyplot as plt\n",
    "import numpy as np\n",
    "import sys\n",
    "import os\n",
    "#plt.style.use('ggplot')\n",
    "\n",
    "# load data\n",
    "f = file(fp_bp[k])\n",
    "for i in range(n1):\n",
    "    s = f.readline()\n",
    "    s = s.replace('\\n', '')\n",
    "    s = s.replace('[', '')\n",
    "    s = s.replace(']', '')\n",
    "    s = s.replace(' ', '*')\n",
    "    s = s.replace('\\t\\t', '*')\n",
    "    s = s.replace('\\t', '*')\n",
    "    s = s.replace('****', '*')\n",
    "    s = s.replace('***', '*')\n",
    "    s = s.replace('**', '*')\n",
    "    arr = s.split('*')\n",
    "    t_bp[k,i] = float(arr[0])+1\n",
    "    l_bp[k,i] = float(arr[1])\n",
    "    a_bp[k,i] = float(arr[2])\n",
    "\n",
    "# draw first graph\n",
    "plt.figure(dpi=75,figsize=[3.8,3.2])\n",
    "plt.plot(x, y1, 'yo-')\n",
    "plt.plot(x, y2, 'rv-')\n",
    "plt.legend(['FCN', 'HLN'])\n",
    "plt.title(r'$196I-30H-10F$')\n",
    "plt.xlabel('Epoch')\n",
    "plt.ylabel('Training Loss')\n",
    "plt.axis([0, n1, 0, max(max(l_bp[0,:]),max(l_hl[0,:]))])\n",
    "plt.savefig('mnist_training_loss_1.pdf',dpi=75)\n",
    "\n",
    "plt.figure(dpi=75,figsize=[3.8,3.2])\n",
    "plt.plot(x, y1, 'yo-')\n",
    "plt.plot(x, y2, 'rv-')\n",
    "plt.legend(['FCN', 'HLN'])\n",
    "plt.title(r'$196I-30H-10F$')\n",
    "plt.xlabel('Epoch')\n",
    "plt.ylabel('Test Accuracy')\n",
    "plt.axis([0, n1, 0, max(max(l_bp[0,:]),max(l_hl[0,:]))])\n",
    "plt.savefig('mnist_training_loss_1.pdf',dpi=75)\n"
   ]
  }
 ],
 "metadata": {
  "kernelspec": {
   "display_name": "Python 2",
   "language": "python",
   "name": "python2"
  },
  "language_info": {
   "codemirror_mode": {
    "name": "ipython",
    "version": 2
   },
   "file_extension": ".py",
   "mimetype": "text/x-python",
   "name": "python",
   "nbconvert_exporter": "python",
   "pygments_lexer": "ipython2",
   "version": "2.7.13"
  }
 },
 "nbformat": 4,
 "nbformat_minor": 2
}
