{
 "cells": [
  {
   "cell_type": "code",
   "execution_count": 2,
   "metadata": {
    "collapsed": true
   },
   "outputs": [],
   "source": [
    "import numpy as np\n",
    "import PIL.Image as pi\n",
    "import os\n",
    "import time"
   ]
  },
  {
   "cell_type": "code",
   "execution_count": null,
   "metadata": {
    "collapsed": true
   },
   "outputs": [],
   "source": [
    "# resize imagae with weight/height ratio held\n",
    "# fill_color is the default color to fill in when\n",
    "# scaling image with unfitted referred width and\n",
    "# height.\n",
    "def resize_im_with_ratio_held(im, w, h, fill_color):\n",
    "    ''' resize an image to given width and height\n",
    "    while keeping the ratio held, fill default color\n",
    "    on generating blank region.\n",
    "    Such as a image with 3x4, required to be resized\n",
    "    to 2x3, then 3->2, 4->3, but actually, 2/3<3/4,\n",
    "    which means blanks will be generated at both \n",
    "    sides of the image in horizontal direction.\n",
    "    '''\n",
    "    ow, oh = im.size\n",
    "    ow\n",
    "def load_labeled_dataset(path, C,H,W):\n",
    "    _subdirs = os.listdir(path)    \n",
    "    labels = [] # unicode strings\n",
    "    sx_samples = []\n",
    "    sy_samples = []\n",
    "    for _subdir in _subdirs:\n",
    "        labels.append(_subdir.decode('utf-8'))\n",
    "    # to ensure an absolute mapping from id to label\n",
    "    labels.sort()\n",
    "    print('please record down the list of labels:')\n",
    "    for _i in range(len(labels)):\n",
    "        _label = labels[_i]\n",
    "        print(str(_i) + ' : ' + _label)\n",
    "        _path = os.path.join(path, _label)\n",
    "        _files = os.listdir(_path)\n",
    "        for _file in _files:\n",
    "            _im_path = os.path.join(\n",
    "                    _path, \n",
    "                    _file.decode('utf-8')\n",
    "            )\n",
    "            _im = pi.open(_im_path)\n",
    "            _im = _im.resize([W,H])\n",
    "            _x = np.array(_im)\n",
    "            # processing for non-3-channel images\n",
    "            if len(_x.shape)==2: # gray image\n",
    "                _tmp = np.zeros([H,W,C])\n",
    "                for _ii in xrange(self.C):\n",
    "                    _tmp[:,:,_ii] = _x\n",
    "                _x = _tmp\n",
    "            elif len(_x.shape)==3 and _x.shape[2]!=self.C:\n",
    "                _tmp = np.zeros([self.H,self.W,self.C])\n",
    "                for _ii in xrange(self.C):\n",
    "                    if _ii<_x.shape[2]:\n",
    "                        _tmp[:,:,_ii] = _x[:,:,_ii]\n",
    "                    else:\n",
    "                        _tmp[:,:,_ii] = 0\n",
    "                _x = _tmp\n",
    "            elif len(_x.shape)!=3:\n",
    "                raise NameError('unacceptable image format!')\n",
    "            self.sx_samples.append(_x)\n",
    "            self.sy_samples.append(_i)\n",
    "            #pl.imshow(_im)\n",
    "            #pl.show()\n",
    "            #break\n",
    "    # set up random generator(supervised)\n",
    "    self.svol = len(self.sx_samples) # volume of samples\n",
    "    self.sseq = np.arange(self.svol) # random sequence of samples\n",
    "    self.sidx = 0 # current index in sequence\n",
    "\n",
    "    # check if data is enough for a batch\n",
    "    if self.svol < self.N:\n",
    "        raise NameError('Samples not enough for a batch!')\n",
    "\n",
    "    # construct supervised batch(x,y)\n",
    "    self.sbatch_x = np.zeros(\n",
    "            [self.N,self.H,self.W,self.C], \n",
    "            np.float32\n",
    "    )\n",
    "    self.sbatch_y = np.zeros([self.N], np.int32)"
   ]
  }
 ],
 "metadata": {
  "kernelspec": {
   "display_name": "Python 3",
   "language": "python",
   "name": "python3"
  },
  "language_info": {
   "codemirror_mode": {
    "name": "ipython",
    "version": 3
   },
   "file_extension": ".py",
   "mimetype": "text/x-python",
   "name": "python",
   "nbconvert_exporter": "python",
   "pygments_lexer": "ipython3",
   "version": "3.6.3"
  }
 },
 "nbformat": 4,
 "nbformat_minor": 2
}
