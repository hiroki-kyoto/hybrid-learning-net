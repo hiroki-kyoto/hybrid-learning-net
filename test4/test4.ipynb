{
 "cells": [
  {
   "cell_type": "markdown",
   "metadata": {},
   "source": [
    "For input space $\\mathbf{X}\\in \\mathbb{R}^J$:\n",
    "$$\n",
    "\\mathbf{X}\\triangleleft\\left<x_1,x_2,\\cdots,x_J\\right>\n",
    "$$\n",
    "\n",
    "For each input there must exist a single maximum response $\\mathbf{Y}\\in\\mathbb{R}^K$:\n",
    "$$\n",
    "\\mathbf{Y}\\triangleleft\\left<y_1,y_2,\\cdots,y_K\\right>\n",
    "$$\n",
    "where $y_i$ denotes the responsive strength of $i^{th}$ class for a learner.\n",
    "\n",
    "For learners:\n",
    "$$\n",
    "\\mathcal{L}_i(x\\mid\\theta),i=1,2,\\cdots,N\n",
    "$$\n",
    "\n",
    "For each learner, the single maximum response class is\n",
    "its output (For multi-maximum response situation, \n",
    "we set the output as the first one), i.e.,\n",
    "$$\n",
    "o(\\mathcal{L})=\\arg\\max(\\left<y_1,y_2,\\cdots,y_K\\right>)\n",
    "$$\n",
    "\n",
    "On unsupervised learning, the index of the learner with maximum response is:\n",
    "$$\n",
    "\\arg\\max(o(\\mathcal{L}_i(x\\mid\\theta)))\n",
    "$$\n",
    "The class with maximum response among learners is:\n",
    "$$\n",
    "\\max(o(\\mathcal{L}_i(x\\mid\\theta)))\n",
    "$$\n",
    "\n",
    "Other learner will move closer to the winner:\n"
   ]
  },
  {
   "cell_type": "code",
   "execution_count": null,
   "metadata": {
    "collapsed": true
   },
   "outputs": [],
   "source": []
  }
 ],
 "metadata": {
  "kernelspec": {
   "display_name": "Python 2",
   "language": "python",
   "name": "python2"
  },
  "language_info": {
   "codemirror_mode": {
    "name": "ipython",
    "version": 2
   },
   "file_extension": ".py",
   "mimetype": "text/x-python",
   "name": "python",
   "nbconvert_exporter": "python",
   "pygments_lexer": "ipython2",
   "version": "2.7.13"
  }
 },
 "nbformat": 4,
 "nbformat_minor": 2
}
